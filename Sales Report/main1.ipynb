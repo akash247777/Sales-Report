{
 "cells": [
  {
   "cell_type": "code",
   "execution_count": 1,
   "id": "aa6476d3",
   "metadata": {},
   "outputs": [],
   "source": [
    "import tkinter as tk \n",
    "from tkinter import ttk, messagebox, filedialog\n",
    "from tkinter.scrolledtext import ScrolledText\n",
    "from tkcalendar import DateEntry  # pip install tkcalendar\n",
    "import pyodbc\n",
    "from datetime import datetime\n",
    "from decimal import Decimal\n",
    "import io\n",
    "import zipfile\n",
    "import pandas as pd\n",
    "import concurrent.futures\n",
    "import os\n",
    "import threading"
   ]
  },
  {
   "cell_type": "markdown",
   "id": "5b1cd446",
   "metadata": {},
   "source": [
    "`import tkinter as tk `\n",
    "\n",
    "Imports the Tkinter library, aliased as tk, for creating the GUI.\n",
    "\n",
    "`from tkinter import ttk, messagebox, filedialog`\n",
    "\n",
    "Imports specific modules from Tkinter: ttk for themed widgets, messagebox for displaying message boxes, and filedialog for file selection dialogs.\n",
    "\n",
    "`from tkinter.scrolledtext import ScrolledText`\n",
    "\n",
    "Imports the ScrolledText widget from Tkinter for a scrollable text area.\n",
    "\n",
    "`from tkcalendar import DateEntry  # pip install tkcalendar`\n",
    "\n",
    "Imports the DateEntry widget from the tkcalendar library (which needs to be installed separately) for date selection.\n",
    "\n",
    "`import pyodbc`\n",
    "\n",
    "Imports the pyodbc library for connecting to databases using ODBC.\n",
    "\n",
    "`from datetime import datetime`\n",
    "\n",
    "Imports the `datetime` class from the `datetime` module for working with dates and times.\n",
    "\n",
    "`from decimal import Decimal`\n",
    "\n",
    "Imports the`Decimal` class from the `decimal` module for precise decimal arithmetic.\n",
    "\n",
    "`import io`\n",
    "\n",
    "Imports the `io` module for working with input/output streams.\n",
    "\n",
    "`import zipfile`\n",
    "\n",
    "Imports the `zipfile` module for creating and working with ZIP archives.\n",
    "\n",
    "`import pandas as pd`\n",
    "\n",
    "Imports the `pandas` library, aliased as `pd`, for data analysis and manipulation (especially for reading data from Excel files).\n",
    "\n",
    "`import concurrent.futures`\n",
    "\n",
    "Imports the `concurrent.futures` module for running tasks in parallel using threads or processes.\n",
    "\n",
    "`import os`\n",
    "\n",
    "Imports the `os` module for interacting with the operating system (e.g., file paths).\n",
    "\n",
    "`import threading`\n",
    "\n",
    "Imports the `threading` module for creating and managing threads."
   ]
  },
  {
   "cell_type": "markdown",
   "id": "83c209cf",
   "metadata": {},
   "source": [
    "# 🧵 What is Threading?\n",
    "\n",
    "Threading means running multiple tasks at the same time within one program. It helps make things faster or smoother — especially when some tasks take time (like downloading a file or waiting for input).\n",
    "\n",
    "Think of it like this:\n",
    "\n",
    "💡 Imagine you're making tea while chatting with a friend on the phone.\n",
    "\n",
    "- You boil water — that takes time.\n",
    "- While the water boils, you don’t just sit there… you continue talking.\n",
    "- You’re doing two things at once — that's threading! 🫖📞\n",
    "\n",
    "In computer terms, each task (boiling water, chatting) would be a thread — running in parallel, but all inside one program.\n",
    "\n",
    "# Example"
   ]
  },
  {
   "cell_type": "code",
   "execution_count": null,
   "id": "db288316",
   "metadata": {},
   "outputs": [
    {
     "name": "stdout",
     "output_type": "stream",
     "text": [
      "Hello Akash!\n",
      "Goodbye Akash!\n"
     ]
    }
   ],
   "source": [
    "# Example of threading in Python\n",
    "import threading\n",
    "\n",
    "def greet():\n",
    "    print(\"Hello Akash!\")\n",
    "\n",
    "def farewell():\n",
    "    print(\"Goodbye Akash!\")\n",
    "\n",
    "# Create two threads\n",
    "thread1 = threading.Thread(target=greet)\n",
    "thread2 = threading.Thread(target=farewell)\n",
    "\n",
    "# Start both threads\n",
    "thread1.start()\n",
    "thread2.start()\n",
    "\n",
    "# Wait for both threads to finish\n",
    "thread1.join()\n",
    "thread2.join()"
   ]
  },
  {
   "cell_type": "code",
   "execution_count": 2,
   "id": "9e97f992",
   "metadata": {},
   "outputs": [],
   "source": [
    "def format_currency(value):\n",
    "    \"\"\"Format a numeric value as a currency string with 2 decimals.\"\"\"\n",
    "    return f\"{value:,.2f}\""
   ]
  },
  {
   "cell_type": "markdown",
   "id": "4f30e7cc",
   "metadata": {},
   "source": [
    "Defines a function `format_currency` that takes a numeric value and returns a string formatted as currency with two decimal places and comma separators."
   ]
  },
  {
   "cell_type": "code",
   "execution_count": 3,
   "id": "7827bf59",
   "metadata": {},
   "outputs": [],
   "source": [
    "def format_report(result, site_id, site_name, from_date, to_date):\n",
    "    \"\"\"\n",
    "    Process the query result (a list of tuples) and produce a text report\n",
    "    in which every line is fixed to 180 characters.\n",
    "    \"\"\"\n",
    "    PAGE_WIDTH = 180"
   ]
  },
  {
   "cell_type": "markdown",
   "id": "b047e7e0",
   "metadata": {},
   "source": [
    "Defines a function `format_report` that takes query results and metadata, and formats them into a fixed-width text report. `PAGE_WIDTH` sets the line width."
   ]
  },
  {
   "cell_type": "code",
   "execution_count": null,
   "id": "d269b3d5",
   "metadata": {},
   "outputs": [],
   "source": [
    "def fix_line(line, width=PAGE_WIDTH):\n",
    "    clean = line.rstrip(\"\\n\")\n",
    "    if len(clean) < width:\n",
    "        return clean + \" \" * (width - len(clean))\n",
    "    else:\n",
    "        return clean[:width]"
   ]
  },
  {
   "cell_type": "markdown",
   "id": "f0095536",
   "metadata": {},
   "source": [
    "Defines a nested function fix_line that pads or truncates a string to a specified width."
   ]
  },
  {
   "cell_type": "code",
   "execution_count": null,
   "id": "ce17eb2c",
   "metadata": {},
   "outputs": [],
   "source": [
    "now = datetime.now()\n",
    "header_date = now.strftime(\"%d/%m/%Y\")\n",
    "header_time = now.strftime(\"%I:%M %p\")"
   ]
  },
  {
   "cell_type": "markdown",
   "id": "77fe296e",
   "metadata": {},
   "source": [
    "Gets the current date and time and formats them for the report header."
   ]
  },
  {
   "cell_type": "code",
   "execution_count": null,
   "id": "1fa3ac02",
   "metadata": {},
   "outputs": [],
   "source": [
    "lines = []\n",
    "# Header Section.\n",
    "lines.append(f\"DATE: {header_date}\".rjust(PAGE_WIDTH))\n",
    "lines.append(f\"TIME: {header_time}\".rjust(PAGE_WIDTH))\n",
    "lines.append(\"\")\n",
    "lines.append(\"APOLLO PHARMACIES LIMITED\".center(PAGE_WIDTH))\n",
    "lines.append(f\"{site_id} - {site_name}\".center(PAGE_WIDTH))\n",
    "lines.append(\"\")\n",
    "lines.append(\"Sales Transaction Summary Report\".center(PAGE_WIDTH))\n",
    "lines.append(f\"From Date : {from_date}    To Date : {to_date}\".center(PAGE_WIDTH))\n",
    "lines.append(\"-\" * PAGE_WIDTH)"
   ]
  },
  {
   "cell_type": "markdown",
   "id": "982bd41b",
   "metadata": {},
   "source": [
    "Creates the header section of the report, including the date, time, company name, site ID, site name, report title, and date range. Each line is centered or right-justified to fit the page width."
   ]
  },
  {
   "cell_type": "code",
   "execution_count": null,
   "id": "dbce6a6d",
   "metadata": {},
   "outputs": [],
   "source": [
    "header_groups = (\n",
    "    \"|\" +\n",
    "    \" SALES \".center(55) +\n",
    "    \"|\" +\n",
    "    \" RETURNS \".center(55) +\n",
    "    \"|\" +\n",
    "    \" NET \".center(55) +\n",
    "    \"|\"\n",
    ")\n",
    "lines.append(header_groups)\n",
    "lines.append(\"-\" * PAGE_WIDTH)"
   ]
  },
  {
   "cell_type": "markdown",
   "id": "8a2fd0d2",
   "metadata": {},
   "source": [
    "Creates the column group headers for Sales, Returns, and Net sections."
   ]
  },
  {
   "cell_type": "code",
   "execution_count": null,
   "id": "604eda00",
   "metadata": {},
   "outputs": [],
   "source": [
    "header_cols = (\n",
    "    f\"{'BILLTYPE':<17} |\"\n",
    "    f\"{'NO':>8} |\"\n",
    "    f\"{'AMT':>12} |\"\n",
    "    f\"{'DISC':>12} |\"\n",
    "    f\"{'NET':>12} |\"\n",
    "    f\"{'NO':>6} |\"\n",
    "    f\"{'AMT':>12} |\"\n",
    "    f\"{'DISC':>12} |\"\n",
    "    f\"{'NET':>12} |\"\n",
    "    f\"{'NO':>6} |\"\n",
    "    f\"{'AMT':>12} |\"\n",
    "    f\"{'DISC':>12} |\"\n",
    "    f\"{'NET':>12} |\"\n",
    ")\n",
    "lines.append(header_cols)\n",
    "lines.append(\"-\" * PAGE_WIDTH)"
   ]
  },
  {
   "cell_type": "markdown",
   "id": "1fcddcbe",
   "metadata": {},
   "source": [
    "Creates the column headers for the report, specifying the labels and their alignment."
   ]
  },
  {
   "cell_type": "code",
   "execution_count": null,
   "id": "4a5eb0bf",
   "metadata": {},
   "outputs": [],
   "source": [
    "# Process data rows.\n",
    "sales_data = []\n",
    "partner_data = []"
   ]
  },
  {
   "cell_type": "markdown",
   "id": "be8ae07b",
   "metadata": {},
   "source": [
    "Initializes empty lists to store sales data and partner data."
   ]
  },
  {
   "cell_type": "code",
   "execution_count": null,
   "id": "60f47d84",
   "metadata": {},
   "outputs": [],
   "source": [
    "for row in result:\n",
    "    isheader = row[0]\n",
    "    if isheader in (1, 3):\n",
    "        sale_net = row[3]\n",
    "        sale_disc = row[4]\n",
    "        ret_net = row[5]\n",
    "        ret_disc = row[6]\n",
    "        sales_data.append({\n",
    "            \"BILLTYPE\": row[2],\n",
    "            \"SALECOUNT\": row[7],\n",
    "            \"SALE_NET\": row[3],\n",
    "            \"SALE_DISC\": row[4],\n",
    "            \"SALE_AMT\": sale_net + sale_disc,\n",
    "            \"RETCOUNT\": row[8],\n",
    "            \"RET_NET\": ret_net,\n",
    "            \"RET_DISC\": ret_disc,\n",
    "            \"RET_AMT\": ret_net + ret_disc\n",
    "        })\n",
    "    elif isheader == 0:\n",
    "        partner_data.append({\n",
    "            \"NAME\": row[2],\n",
    "            \"BILLCNT\": row[7],\n",
    "            \"AMOUNT\": row[3]\n",
    "        })"
   ]
  },
  {
   "cell_type": "markdown",
   "id": "65992fd3",
   "metadata": {},
   "source": [
    "Iterates through the query result rows. If isheader is 1 or 3, it processes sales data; if it's 0, it processes partner data, storing the extracted information in the respective lists."
   ]
  },
  {
   "cell_type": "code",
   "execution_count": null,
   "id": "5df4c9f4",
   "metadata": {},
   "outputs": [],
   "source": [
    "tot_sale_count = tot_sale_amt = tot_sale_disc = tot_sale_net = 0\n",
    "tot_ret_count = tot_ret_amt = tot_ret_disc = tot_ret_net = 0\n",
    "net_cash_sales = 0"
   ]
  },
  {
   "cell_type": "markdown",
   "id": "be42ea35",
   "metadata": {},
   "source": [
    "Initializes variables to accumulate totals for sales, returns, and net cash sales."
   ]
  },
  {
   "cell_type": "code",
   "execution_count": null,
   "id": "d3e22d49",
   "metadata": {},
   "outputs": [],
   "source": [
    "for s in sales_data:\n",
    "    if s[\"BILLTYPE\"].upper() != \"GIFT\":\n",
    "        tot_sale_count   += s[\"SALECOUNT\"]\n",
    "        tot_sale_amt     += float(s[\"SALE_AMT\"])\n",
    "        tot_sale_disc    += float(s[\"SALE_DISC\"])\n",
    "        tot_sale_net     += float(s[\"SALE_NET\"])\n",
    "        tot_ret_count    += s[\"RETCOUNT\"]\n",
    "        tot_ret_amt      += float(s[\"RET_AMT\"])\n",
    "        tot_ret_disc     += float(s[\"RET_DISC\"])\n",
    "        tot_ret_net      += float(s[\"RET_NET\"])\n",
    "    if s[\"BILLTYPE\"].upper() == \"CASH\":\n",
    "        net_cash_sales = s[\"SALE_NET\"] + s[\"RET_NET\"]"
   ]
  },
  {
   "cell_type": "markdown",
   "id": "88d3caa7",
   "metadata": {},
   "source": [
    "Iterates through the `sales_data` list, accumulating the totals for sales and returns, excluding \"GIFT\" bill types. It also calculates the `net_cash_sales` from \"CASH\" bill types."
   ]
  },
  {
   "cell_type": "code",
   "execution_count": null,
   "id": "a1cdea6a",
   "metadata": {},
   "outputs": [],
   "source": [
    "tot_overall_count = tot_sale_count + tot_ret_count\n",
    "tot_overall_amt   = tot_sale_amt + tot_ret_amt\n",
    "tot_overall_disc  = tot_sale_disc + tot_ret_disc\n",
    "tot_overall_net   = tot_sale_net + tot_ret_net"
   ]
  },
  {
   "cell_type": "markdown",
   "id": "912a0c8a",
   "metadata": {},
   "source": [
    "Calculates the overall totals by summing the sales and return totals."
   ]
  },
  {
   "cell_type": "code",
   "execution_count": null,
   "id": "2903f114",
   "metadata": {},
   "outputs": [],
   "source": [
    "for s in sales_data:\n",
    "    overall_count = s[\"SALECOUNT\"] + s[\"RETCOUNT\"]\n",
    "    overall_amt   = s[\"SALE_AMT\"] + s[\"RET_AMT\"]\n",
    "    overall_disc  = s[\"SALE_DISC\"] + s[\"RET_DISC\"]\n",
    "    overall_net   = s[\"SALE_NET\"] + s[\"RET_NET\"]\n",
    "    row_line = (\n",
    "        f\"{s['BILLTYPE']:<17} |\"\n",
    "        f\"{s['SALECOUNT']:8d} |\"\n",
    "        f\"{format_currency(s['SALE_AMT']):>12} |\"\n",
    "        f\"{format_currency(s['SALE_DISC']):>12} |\"\n",
    "        f\"{format_currency(s['SALE_NET']):>12} |\"\n",
    "        f\"{s['RETCOUNT']:6d} |\"\n",
    "        f\"{format_currency(s['RET_AMT']):>12} |\"\n",
    "        f\"{format_currency(s['RET_DISC']):>12} |\"\n",
    "        f\"{format_currency(s['RET_NET']):>12} |\"\n",
    "        f\"{overall_count:6d} |\"\n",
    "        f\"{format_currency(overall_amt):>12} |\"\n",
    "        f\"{format_currency(overall_disc):>12} |\"\n",
    "        f\"{format_currency(overall_net):>12} |\"\n",
    "    )\n",
    "    lines.append(row_line)\n",
    "lines.append(\"-\" * PAGE_WIDTH)"
   ]
  },
  {
   "cell_type": "markdown",
   "id": "ffce6b35",
   "metadata": {},
   "source": [
    "Iterates through the `sales_data` list again, creating a formatted row for each entry, including sales, returns, and overall values. The` format_currency `function is used to format the monetary values."
   ]
  },
  {
   "cell_type": "code",
   "execution_count": null,
   "id": "b3078eec",
   "metadata": {},
   "outputs": [],
   "source": [
    "totals_line = (\n",
    "    f\"{'TOTALAMOUNT   :':<17} |\"\n",
    "    f\"{tot_sale_count:8d} |\"\n",
    "    f\"{format_currency(tot_sale_amt):>12} |\"\n",
    "    f\"{format_currency(tot_sale_disc):>12} |\"\n",
    "    f\"{format_currency(tot_sale_net):>12} |\"\n",
    "    f\"{int(tot_ret_count):6d} |\"\n",
    "    f\"{format_currency(tot_ret_amt):>12} |\"\n",
    "    f\"{format_currency(tot_ret_disc):>12} |\"\n",
    "    f\"{format_currency(tot_ret_net):>12} |\"\n",
    "    f\"{int(tot_overall_count):6d} |\"\n",
    "    f\"{format_currency(tot_overall_amt):>12} |\"\n",
    "    f\"{format_currency(tot_overall_disc):>12} |\"\n",
    "    f\"{format_currency(tot_overall_net):>12} |\"\n",
    ")\n",
    "lines.append(totals_line)\n",
    "lines.append(\"-\" * PAGE_WIDTH)"
   ]
  },
  {
   "cell_type": "markdown",
   "id": "abd7bbe3",
   "metadata": {},
   "source": [
    "Creates a formatted line for the totals, using the accumulated total variables and the `format_currency` function."
   ]
  },
  {
   "cell_type": "code",
   "execution_count": null,
   "id": "59cc7d53",
   "metadata": {},
   "outputs": [],
   "source": [
    "lines.extend([\n",
    "    \"\\nSALES :-\",\n",
    "    f\"\\n       Net Cash Sales        : {format_currency(net_cash_sales)}\",\n",
    "    \"       Total Paid In         :       0.00\",\n",
    "    \"       Total Paid out        :       0.00\"\n",
    "])\n",
    "total_paid_in = Decimal('0.0')\n",
    "total_paid_out = Decimal('0.0')\n",
    "total_sales = Decimal(net_cash_sales) + total_paid_in + total_paid_out\n",
    "lines.append(f\"       Total Sales           : {format_currency(total_sales)}\\n\")\n",
    "\n",
    "lines.extend([\n",
    "    \"HealingCard Collections:\",\n",
    "    f\"     Cash Collections        : {'0':>9}\",\n",
    "    f\"     Credit Card Collections : {'0':>9}\",\n",
    "    f\"     Total Collection        : {'0':>9}\\n\",\n",
    "    f\"Total Cash Amount            : {format_currency(total_sales)} \",\n",
    "    \"\\n\" + \"-\" * 180 + \"\\n\"\n",
    "])"
   ]
  },
  {
   "cell_type": "markdown",
   "id": "5d4764f8",
   "metadata": {},
   "source": [
    "Adds sales-related information to the report, including net cash sales, total paid in, total paid out, and total sales."
   ]
  },
  {
   "cell_type": "code",
   "execution_count": null,
   "id": "c89eea23",
   "metadata": {},
   "outputs": [],
   "source": [
    "lines.append(\"\\nPartner Program Summary  :\\n\")\n",
    "partner_header = \" slno| Name                                     |     NoInv        |    Amount    |\"\n",
    "lines.append(partner_header)\n",
    "lines.append(\"-\" * PAGE_WIDTH)"
   ]
  },
  {
   "cell_type": "markdown",
   "id": "1180eb71",
   "metadata": {},
   "source": [
    "Adds a header for the Partner Program Summary section."
   ]
  },
  {
   "cell_type": "code",
   "execution_count": null,
   "id": "b945834e",
   "metadata": {},
   "outputs": [],
   "source": [
    "tot_partner_inv = tot_partner_amt = 0\n",
    "for idx, p in enumerate(partner_data, start=1):\n",
    "    tot_partner_inv += p[\"BILLCNT\"]\n",
    "    tot_partner_amt += float(p[\"AMOUNT\"])\n",
    "    part_line = (\n",
    "        f\"{idx:6d} | {p['NAME']:<38} |     {p['BILLCNT']:12d} | {format_currency(p['AMOUNT']):>12} |\"\n",
    "    )\n",
    "    lines.append(part_line)\n",
    "lines.append(\"-\" * (PAGE_WIDTH - 50))\n",
    "partner_totals_line = (\n",
    "    f\"      TOTAL AMOUNT:                    {tot_partner_inv:27d} | {format_currency(tot_partner_amt):>9} |\"\n",
    ")\n",
    "lines.append(partner_totals_line)\n",
    "lines.append(\"-\" * (PAGE_WIDTH - 50))"
   ]
  },
  {
   "cell_type": "markdown",
   "id": "27b6433b",
   "metadata": {},
   "source": [
    "Iterates through the `partner_data` list, creating a formatted row for each partner. It also calculates and adds the total partner amount to the report."
   ]
  },
  {
   "cell_type": "code",
   "execution_count": null,
   "id": "b6f1ec1d",
   "metadata": {},
   "outputs": [],
   "source": [
    "fixed_lines = [fix_line(line) for line in lines]\n",
    "return \"\\n\".join(fixed_lines)"
   ]
  },
  {
   "cell_type": "markdown",
   "id": "5d345ff1",
   "metadata": {},
   "source": [
    "Applies the` fix_line` function to each line in the` lines` list to ensure consistent line widths, and then joins the lines with newline characters to create the final report string."
   ]
  },
  {
   "cell_type": "code",
   "execution_count": null,
   "id": "7d90ae7c",
   "metadata": {},
   "outputs": [],
   "source": [
    "def try_connection(series, formatted_site_id, username, password, database):\n",
    "    \"\"\"Attempt to connect using the given IP series.\"\"\"\n",
    "    host = f\"{series}{formatted_site_id}\"\n",
    "    try:\n",
    "        connection = pyodbc.connect(\n",
    "            f\"DRIVER={{ODBC Driver 17 for SQL Server}};\"\n",
    "            f\"SERVER={host};\"\n",
    "            f\"UID={username};\"\n",
    "            f\"PWD={password};\"\n",
    "            f\"DATABASE={database};\"\n",
    "        )\n",
    "        return connection\n",
    "    except pyodbc.Error:\n",
    "        return None"
   ]
  },
  {
   "cell_type": "markdown",
   "id": "c894db4d",
   "metadata": {},
   "source": [
    "Defines a function` try_connection` that attempts to connect to the database using a given IP series, formatted site ID, username, password, and database name. It returns the connection object if successful, otherwise None."
   ]
  },
  {
   "cell_type": "code",
   "execution_count": null,
   "id": "ce6006b3",
   "metadata": {},
   "outputs": [],
   "source": [
    "def connect_to_database(site_id, username, password, database, ip_series_choice, custom_ip=None):\n",
    "    \"\"\"\n",
    "    Attempt to connect to the server.\n",
    "    \n",
    "    If a custom_ip is provided (i.e. the user clicked EDIT/ALERT IP), then use it directly.\n",
    "    Otherwise, use the IP series ('16' or '28') to build the host from the site_id.\n",
    "    \"\"\"\n",
    "    if custom_ip:  # Use the manually entered IP address\n",
    "        host = custom_ip\n",
    "        try:\n",
    "            connection = pyodbc.connect(\n",
    "                f\"DRIVER={{ODBC Driver 17 for SQL Server}};\"\n",
    "                f\"SERVER={host};\"\n",
    "                f\"UID={username};\"\n",
    "                f\"PWD={password};\"\n",
    "                f\"DATABASE={database};\"\n",
    "            )\n",
    "            return connection\n",
    "        except pyodbc.Error:\n",
    "            return None\n",
    "    else:\n",
    "        # Format the site id as before (for example: '13100' becomes '131.00')\n",
    "        try:\n",
    "            formatted_site_id = f\"{site_id[:3]}.{int(site_id[3:])}\"\n",
    "        except Exception as e:\n",
    "            raise ValueError(f\"Error formatting Site ID: {e}\")\n",
    "        if ip_series_choice == \"16\":\n",
    "            ip_series = [\"10.16.\"]\n",
    "        elif ip_series_choice == \"28\":\n",
    "            ip_series = [\"10.28.\"]\n",
    "        else:\n",
    "            ip_series = []\n",
    "        \n",
    "        with concurrent.futures.ThreadPoolExecutor(max_workers=len(ip_series)) as executor:\n",
    "            futures = {executor.submit(try_connection, series, formatted_site_id, username, password, database): series \n",
    "                       for series in ip_series}\n",
    "            for future in concurrent.futures.as_completed(futures):\n",
    "                connection = future.result()\n",
    "                if connection:\n",
    "                    return connection\n",
    "        return None"
   ]
  },
  {
   "cell_type": "markdown",
   "id": "9d747999",
   "metadata": {},
   "source": [
    "Defines a function `connect_to_database` that attempts to connect to the database. It first checks if a `custom_ip` is provided. If so, it uses that IP address to connect. Otherwise, it constructs the IP address from the `site_id` and `ip_series_choice` and attempts to connect. It uses a thread pool to try different IP series in parallel."
   ]
  },
  {
   "cell_type": "code",
   "execution_count": null,
   "id": "286f1c9a",
   "metadata": {},
   "outputs": [],
   "source": [
    "def get_report_data(site_id, from_date, to_date, username, password, database, ip_series_choice, custom_ip=None):\n",
    "    \"\"\"\n",
    "    Connect to the database, run the query, and return (result, site_name).\n",
    "    The custom_ip (if provided) overrides the IP series.\n",
    "    \"\"\"\n",
    "    connection = connect_to_database(site_id, username, password, database, ip_series_choice, custom_ip)\n",
    "    if not connection:\n",
    "        raise ConnectionError(f\"Could not connect to the server for site {site_id}.\")\n",
    "    \n",
    "    try:\n",
    "        cursor = connection.cursor()\n",
    "        cursor.execute(\"SELECT name FROM ax.inventsite WHERE siteid = ?\", site_id)\n",
    "        site_row = cursor.fetchone()\n",
    "        site_name = site_row[0] if site_row else \"Unknown Site\"\n",
    "        \n",
    "        query = \"\"\"\n",
    "        select ISHEADER = CASE WHEN BILLTYPE ='GIFT' THEN 3 ELSE 1 END,\n",
    "               ACXCORPCODE = -1,\n",
    "               upper(BILLTYPE) BILLTYPE,\n",
    "               sum(saleamt) NETSALEAMT,\n",
    "               Cast(sum(discamt) as decimal(12,2)) DISCAMT,\n",
    "               Cast(sum(RETAMT) as decimal(12,2)) NETRETAMT,\n",
    "               Cast(sum(RETDISC) as decimal(12,2)) RETDISC,\n",
    "               sum(isscnt) SALECOUNT,\n",
    "               sum(retcnt) RETCNT \n",
    "        from (\n",
    "            select name billtype,\n",
    "                   Cast(sum(AMOUNTTENDERED) as decimal(12,2)) saleamt,\n",
    "                   sum(DISCAMOUNT) DISCAMT,\n",
    "                   0 RETAMT,\n",
    "                   0 RETDISC,\n",
    "                   count(distinct rt.receiptid) isscnt,\n",
    "                   0 retcnt \n",
    "            from ax.retailtransactiontable rt\n",
    "            join ax.RETAILTRANSACTIONPAYMENTTRANS rpt\n",
    "              on rt.TRANSACTIONID = rpt.TRANSACTIONID and rt.RECEIPTID = rt.RECEIPTID\n",
    "            join RETAILTENDERTYPETABLE rtt\n",
    "              on rpt.TENDERTYPE = rtt.TENDERTYPEID\n",
    "            where ENTRYSTATUS = 0  \n",
    "              and acxtranstype = 0 \n",
    "              and rpt.TRANSACTIONSTATUS = 0 \n",
    "              and rpt.BUSINESSDATE between ? and ? \n",
    "              and rpt.RECEIPTID not in (\n",
    "                    Select IQ.receiptid \n",
    "                    from ax.RETAILTRANSACTIONPAYMENTTRANS as IQ \n",
    "                    where IQ.receiptid like 'IP%' \n",
    "                      and IQ.tendertype in (1,2)\n",
    "                      and IQ.BUSINESSDATE between ? and ?\n",
    "              )\n",
    "            group by name, DISCAMOUNT\n",
    "            union  \n",
    "            select name,\n",
    "                   0 saleamt,\n",
    "                   0 DISCAMT,\n",
    "                   Sum(AMOUNTTENDERED) AMOUNTTENDERED,\n",
    "                   sum(-1*DISCAMOUNT) DISCAMT,\n",
    "                   0 isscnt,\n",
    "                   count(distinct rt.receiptid) retcnt \n",
    "            from ax.retailtransactiontable rt\n",
    "            join ax.RETAILTRANSACTIONPAYMENTTRANS rpt\n",
    "              on rt.TRANSACTIONID = rpt.TRANSACTIONID and rt.RECEIPTID = rpt.RECEIPTID\n",
    "            join RETAILTENDERTYPETABLE rtt\n",
    "              on rpt.TENDERTYPE = rtt.TENDERTYPEID\n",
    "            where ENTRYSTATUS = 0  \n",
    "              and acxtranstype <> 0 \n",
    "              and rpt.TRANSACTIONSTATUS = 0 \n",
    "              and rpt.BUSINESSDATE between ? and ?  \n",
    "            group by name \n",
    "        ) a \n",
    "        group by billtype\n",
    "        union all\n",
    "        select ISHEADER = 0,\n",
    "               ACXCORPCODE,\n",
    "               ax.getcorporatename(acxcorpcode) CORPORATE,\n",
    "               (cast(sum(CASE WHEN ACXCORPCODE ='172' AND ACXCREDIT = 0 THEN 0 ELSE -1*GROSSAMOUNT END)\n",
    "                - sum(case when ACXTRANSTYPE = 0 then discamount\n",
    "                           when ACXTRANSTYPE <> 0 then -1*discamount end) as decimal(18,2)) - sum(ACXLOYALTY)) NETAMT,\n",
    "               0, 0, 0,\n",
    "               count(distinct CASE WHEN ACXCORPCODE='172' AND ACXCREDIT = 0 THEN NULL ELSE receiptid END) BILLCNT,\n",
    "               0 \n",
    "        from ax.retailtransactiontable \n",
    "        where ENTRYSTATUS = 0 \n",
    "          and BUSINESSDATE between ? and ?\n",
    "        group by acxcorpcode\n",
    "        union all\n",
    "        Select ISHEADER = 2,\n",
    "               PAYMENTCODE,\n",
    "               'HEALINGCARD-' + PAYMENTTYPE,\n",
    "               sum(TRANSAMT) Amount,\n",
    "               0, 0, 0, 0, 0 \n",
    "        from HEALING_CARD_TRANSACTION \n",
    "        where ACTIONID in (0,1)\n",
    "          and cast(TRANSACTIONDATE as date) between ? and ?\n",
    "        group by PAYMENTCODE, PAYMENTTYPE\n",
    "        union all\n",
    "        Select ISHEADER = 4,\n",
    "               0,\n",
    "               'OMS CASH COLLECTION',\n",
    "               isnull(SUM(COLLECTEDAMT),0) as COLLECTEDAMT,\n",
    "               0, 0, 0, 0, 0  \n",
    "        from ax.ACXSETTLEMENTDETAILS\n",
    "        where cast(SETTLEMENTDATE as date) between ? and ?\n",
    "        union all                    \n",
    "        select ISHEADER = 5,\n",
    "               tendertype,\n",
    "               'IP COLLECTION',\n",
    "               isnull(SUM(AMOUNTTENDERED), 0) as COLLECTEDAMT,\n",
    "               0, 0, 0, 0, 0 \n",
    "        from ax.retailtransactionpaymenttrans \n",
    "        where tendertype in (1,2)\n",
    "          and receiptid like 'IP%'\n",
    "          and BUSINESSDATE between ? and ? \n",
    "        group by tendertype\n",
    "        \"\"\"\n",
    "        params = (\n",
    "            from_date, to_date,\n",
    "            from_date, to_date,\n",
    "            from_date, to_date,\n",
    "            from_date, to_date,\n",
    "            from_date, to_date,\n",
    "            from_date, to_date,\n",
    "            from_date, to_date\n",
    "        )\n",
    "        cursor.execute(query, params)\n",
    "        result = cursor.fetchall()\n",
    "        return result, site_name\n",
    "    finally:\n",
    "        connection.close()"
   ]
  },
  {
   "cell_type": "markdown",
   "id": "dd3b9259",
   "metadata": {},
   "source": [
    "Defines a function `get_report_data` that connects to the database, executes a SQL query to retrieve the report data, and returns the result along with the site name. It takes `site_id`, `from_date`, `to_date`, database credentials, `ip_series_choice`, and an optional `custom_ip `as parameters. The custom_ip overrides the IP series if provided. The function also handles database connection and cursor management within a `try...finally` block to ensure the connection is closed."
   ]
  },
  {
   "cell_type": "code",
   "execution_count": null,
   "id": "a765b331",
   "metadata": {},
   "outputs": [],
   "source": [
    "class SalesSummaryReportApp(tk.Tk):\n",
    "    def __init__(self):\n",
    "        super().__init__()\n",
    "        self.title(\"Sales Summary Report\")\n",
    "        self.geometry(\"1200x800\")\n",
    "        self.configure(bg=\"#FFFFFF\")  # White background\n",
    "\n",
    "        # Variables to store ZIP data and file path.\n",
    "        self.zip_buffer = None\n",
    "        self.file_path = None  # For file upload mode\n",
    "\n",
    "        # Set up ttk style with Times New Roman fonts.\n",
    "        self.style = ttk.Style(self)\n",
    "        self.style.theme_use(\"clam\")\n",
    "        self.style.configure(\"TFrame\", background=\"#FFFFFF\")\n",
    "        self.style.configure(\"TLabel\", background=\"#FFFFFF\", foreground=\"#333333\", font=(\"Times New Roman\", 12, \"bold\"))\n",
    "        self.style.configure(\"TButton\", background=\"#CCCCCC\", foreground=\"#333333\", font=(\"Times New Roman\", 12, \"bold\"))\n",
    "        self.style.map(\"TButton\", background=[('active', '#AAAAAA')], foreground=[('active', '#000000')])\n",
    "        self.style.configure(\"Input.TLabelframe\", background=\"#F0F0F0\", foreground=\"#333333\",\n",
    "                             font=(\"Times New Roman\", 12, \"bold\"), borderwidth=2)\n",
    "        self.style.configure(\"Input.TLabelframe.Label\", background=\"#F0F0F0\", foreground=\"#333333\")\n",
    "        self.style.configure(\"TRadiobutton\", font=(\"Times New Roman\", 12, \"bold\"), background=\"#F0F0F0\", foreground=\"#333333\")\n",
    "\n",
    "        self.create_widgets()"
   ]
  },
  {
   "cell_type": "markdown",
   "id": "2171430a",
   "metadata": {},
   "source": [
    "Defines the main application class `SalesSummaryReportApp`, which inherits from `tk.Tk`. The` __init__` method initializes the main window, sets its title and size, configures the background color, initializes variables for storing ZIP data and file paths, sets up the ttk style with Times New Roman fonts, and calls the create_widgets method to create the GUI elements."
   ]
  },
  {
   "cell_type": "code",
   "execution_count": null,
   "id": "09774d9d",
   "metadata": {},
   "outputs": [],
   "source": [
    "def create_widgets(self):\n",
    "    # Top frame for input controls.\n",
    "    controls_frame = ttk.Frame(self, style=\"TFrame\")\n",
    "    controls_frame.pack(side=tk.TOP, fill=tk.X, padx=10, pady=10)\n",
    "\n",
    "    # ----------------------------\n",
    "    # Credentials & Site ID Frame\n",
    "    # ----------------------------\n",
    "    creds_frame = ttk.Labelframe(controls_frame, text=\"DB Credentials\", style=\"Input.TLabelframe\")\n",
    "    creds_frame.pack(fill=tk.X, padx=5, pady=5)\n",
    "    ttk.Label(creds_frame, text=\"Username:\").grid(row=0, column=0, padx=5, pady=4, sticky=\"w\")\n",
    "    self.username_entry = ttk.Entry(creds_frame, width=20, font=(\"Times New Roman\", 12, \"bold\"))\n",
    "    self.username_entry.grid(row=0, column=1, padx=5, pady=4)\n",
    "    ttk.Label(creds_frame, text=\"Password:\").grid(row=0, column=2, padx=5, pady=4, sticky=\"w\")\n",
    "    self.password_entry = ttk.Entry(creds_frame, width=20, show=\"*\", font=(\"Times New Roman\", 12, \"bold\"))\n",
    "    self.password_entry.grid(row=0, column=3, padx=5, pady=4)\n",
    "    ttk.Label(creds_frame, text=\"Database:\").grid(row=0, column=4, padx=5, pady=4, sticky=\"w\")\n",
    "    self.database_entry = ttk.Entry(creds_frame, width=20, font=(\"Times New Roman\", 12, \"bold\"))\n",
    "    self.database_entry.grid(row=0, column=5, padx=5, pady=4)\n",
    "    ttk.Label(creds_frame, text=\"Site ID:\").grid(row=0, column=6, padx=5, pady=4, sticky=\"w\")\n",
    "    self.siteid_entry = ttk.Entry(creds_frame, width=15, font=(\"Times New Roman\", 12, \"bold\"))\n",
    "    self.siteid_entry.grid(row=0, column=7, padx=5, pady=4)"
   ]
  },
  {
   "cell_type": "markdown",
   "id": "c7e9803e",
   "metadata": {},
   "source": [
    "- The `create_widgets` method creates the GUI elements of the application. \n",
    "- It starts by creating a top-level frame called `controls_frame` to hold the input controls. \n",
    "- It then creates a `Labelframe` called `creds_frame `for the database credentials and site ID input fields.\n",
    "- Inside `creds_frame`, it creates labels and entry fields for the username, password, database name, and site ID. \n",
    "- The `grid `method is used to arrange these widgets in a grid layout."
   ]
  },
  {
   "cell_type": "code",
   "execution_count": null,
   "id": "70f070af",
   "metadata": {},
   "outputs": [],
   "source": [
    "# ----------------------------\n",
    "# Manual IP Override (Edit IP) Frame\n",
    "# ----------------------------\n",
    "manual_ip_frame = ttk.Labelframe(controls_frame, text=\"Manual IP Override (Optional)\", style=\"Input.TLabelframe\")\n",
    "manual_ip_frame.pack(fill=tk.X, padx=5, pady=5)\n",
    "ttk.Label(manual_ip_frame, text=\"Custom IP:\").pack(side=tk.LEFT, padx=5, pady=4)\n",
    "self.custom_ip_entry = ttk.Entry(manual_ip_frame, width=20, font=(\"Times New Roman\", 12, \"bold\"))\n",
    "self.custom_ip_entry.pack(side=tk.LEFT, padx=5, pady=4)\n",
    "# (If left blank, the connection will use the IP Series options below.)"
   ]
  },
  {
   "cell_type": "markdown",
   "id": "37ad7be7",
   "metadata": {},
   "source": [
    "Creates a `Labelframe` called` manual_ip_frame` for the manual IP override input field. Inside `manual_ip_frame`, it creates a label and an entry field for the custom IP address. The pack method is used to arrange these widgets."
   ]
  },
  {
   "cell_type": "code",
   "execution_count": null,
   "id": "fde2c1d2",
   "metadata": {},
   "outputs": [],
   "source": [
    "# ----------------------------\n",
    "# File Upload Frame\n",
    "# ----------------------------\n",
    "file_frame = ttk.Labelframe(controls_frame, text=\"Upload File for Multiple Site IDs (Optional)\", style=\"Input.TLabelframe\")\n",
    "file_frame.pack(fill=tk.X, padx=5, pady=5)\n",
    "self.file_label = ttk.Label(file_frame, text=\"No file selected\", style=\"TLabel\")\n",
    "self.file_label.pack(side=tk.LEFT, padx=5, pady=4)\n",
    "ttk.Button(file_frame, text=\"Select File\", command=self.select_file).pack(side=tk.LEFT, padx=5, pady=4)\n",
    "ttk.Button(file_frame, text=\"Remove File\", command=self.remove_file).pack(side=tk.LEFT, padx=5, pady=4)"
   ]
  },
  {
   "cell_type": "markdown",
   "id": "a42929b9",
   "metadata": {},
   "source": [
    "Creates a `Labelframe` called `file_frame `for the file upload functionality. Inside `file_frame`, it creates a label to display the selected file name and buttons to select and remove a file."
   ]
  },
  {
   "cell_type": "code",
   "execution_count": null,
   "id": "4e53e42f",
   "metadata": {},
   "outputs": [],
   "source": [
    "# ----------------------------\n",
    "# Server Series Frame\n",
    "# ----------------------------\n",
    "series_frame = ttk.Labelframe(controls_frame, text=\"Server Series\", style=\"Input.TLabelframe\")\n",
    "series_frame.pack(fill=tk.X, padx=5, pady=5)\n",
    "self.ip_series = tk.StringVar(value=\"16\")\n",
    "ttk.Radiobutton(series_frame, text=\"10.16.x.x\", variable=self.ip_series, value=\"16\", style=\"TRadiobutton\").pack(side=tk.LEFT, padx=10, pady=4)\n",
    "ttk.Radiobutton(series_frame, text=\"10.28.x.x\", variable=self.ip_series, value=\"28\", style=\"TRadiobutton\").pack(side=tk.LEFT, padx=10, pady=4)"
   ]
  },
  {
   "cell_type": "markdown",
   "id": "875fff05",
   "metadata": {},
   "source": [
    "- Creates a labeled frame for selecting the IP series.\n",
    "- Uses a `tk.StringVar`(`self.ip_series`) to track which radio button is selected, defaulting to \"16\".\n",
    "- Adds two radio buttons (\"10.16.x.x\", \"10.28.x.x\") linked to the same variable but with different values (\"16\", \"28\")."
   ]
  },
  {
   "cell_type": "code",
   "execution_count": null,
   "id": "d1d7cdb5",
   "metadata": {},
   "outputs": [],
   "source": [
    "# ----------------------------\n",
    "# Date Range Frame\n",
    "# ----------------------------\n",
    "date_frame = ttk.Labelframe(controls_frame, text=\"Date Range\", style=\"Input.TLabelframe\")\n",
    "date_frame.pack(fill=tk.X, padx=5, pady=5)\n",
    "ttk.Label(date_frame, text=\"From Date:\").pack(side=tk.LEFT, padx=5, pady=4)\n",
    "self.from_date = DateEntry(date_frame, width=20, date_pattern='yyyy-mm-dd',\n",
    "                            background=\"white\", foreground=\"black\", font=(\"Times New Roman\", 12, \"bold\"))\n",
    "self.from_date.set_date(datetime.today())\n",
    "self.from_date.pack(side=tk.LEFT, padx=5, pady=4)\n",
    "ttk.Label(date_frame, text=\"To Date:\").pack(side=tk.LEFT, padx=5, pady=4)\n",
    "self.to_date = DateEntry(date_frame, width=20, date_pattern='yyyy-mm-dd',\n",
    "                            background=\"white\", foreground=\"black\", font=(\"Times New Roman\", 12, \"bold\"))\n",
    "self.to_date.set_date(datetime.today())\n",
    "self.to_date.pack(side=tk.LEFT, padx=5, pady=4)"
   ]
  },
  {
   "cell_type": "markdown",
   "id": "887aa074",
   "metadata": {},
   "source": [
    "- Creates a labeled frame for selecting the date range.\n",
    "- Uses`DateEntry` widgets (`self.from_date`, `self.to_date`) for user-friendly date selection.\n",
    "- Sets the default dates to today's date using `set_date(datetime.today())`."
   ]
  },
  {
   "cell_type": "code",
   "execution_count": null,
   "id": "ebe5e25b",
   "metadata": {},
   "outputs": [],
   "source": [
    "# ----------------------------\n",
    "# Action Buttons Frame\n",
    "# ----------------------------\n",
    "action_frame = ttk.Frame(controls_frame, style=\"TFrame\")\n",
    "action_frame.pack(fill=tk.X, padx=5, pady=5)\n",
    "ttk.Button(action_frame, text=\"Generate Report\", command=self.generate_reports).pack(side=tk.LEFT, padx=10, pady=4, expand=True, fill=tk.X)\n",
    "self.download_button = ttk.Button(action_frame, text=\"Download Report\", command=self.download_reports, state=\"disabled\")\n",
    "self.download_button.pack(side=tk.LEFT, padx=10, pady=4, expand=True, fill=tk.X)"
   ]
  },
  {
   "cell_type": "markdown",
   "id": "e94dbe65",
   "metadata": {},
   "source": [
    "- Creates a frame for the main action buttons.\n",
    "- Adds \"Generate Report\" button, linked to `self.generate_reports.`\n",
    "- Adds \"Download Report\" button (`self.download_button`), linked to `self.download_reports`, and initially disabled (`state=\"disabled\"`)."
   ]
  },
  {
   "cell_type": "code",
   "execution_count": null,
   "id": "ed531087",
   "metadata": {},
   "outputs": [],
   "source": [
    "# ----------------------------\n",
    "# Log Output Area\n",
    "# ----------------------------\n",
    "log_frame = ttk.Frame(self, style=\"TFrame\")\n",
    "log_frame.pack(side=tk.TOP, fill=tk.BOTH, expand=True, padx=10, pady=(0, 10))\n",
    "log_top_frame = ttk.Frame(log_frame, style=\"TFrame\")\n",
    "log_top_frame.pack(side=tk.TOP, fill=tk.X)\n",
    "log_label = ttk.Label(log_top_frame, text=\"Log Output:\", style=\"TLabel\")\n",
    "log_label.pack(side=tk.LEFT, padx=5, pady=5)\n",
    "ttk.Button(log_top_frame, text=\"Clear Log\", command=self.clear_log).pack(side=tk.RIGHT, padx=5, pady=5)\n",
    "self.log_text = ScrolledText(log_frame, wrap=tk.WORD, background=\"#FFFFFF\", foreground=\"#333333\", font=(\"Times New Roman\", 12))\n",
    "self.log_text.pack(fill=tk.BOTH, expand=True, padx=5, pady=5)"
   ]
  },
  {
   "cell_type": "markdown",
   "id": "a8de52d2",
   "metadata": {},
   "source": [
    "- Creates the area for displaying log messages.\n",
    "- Uses a `ScrolledText` widget (`self.log_text`) which automatically handles scrolling.\n",
    "- Includes a \"Clear Log\" button linked to `self.clear_log`."
   ]
  },
  {
   "cell_type": "code",
   "execution_count": null,
   "id": "52745141",
   "metadata": {},
   "outputs": [],
   "source": [
    "def select_file(self):\n",
    "    filename = filedialog.askopenfilename(title=\"Select File\", filetypes=[(\"Excel files\", \"*.xlsx\"), (\"Text files\", \"*.txt\"), (\"CSV files\", \"*.csv\")])\n",
    "    if filename:\n",
    "        self.file_label.config(text=os.path.basename(filename))\n",
    "        self.file_path = filename\n",
    "        self.safe_log(f\"Selected file: {filename}\")"
   ]
  },
  {
   "cell_type": "markdown",
   "id": "bf575397",
   "metadata": {},
   "source": [
    "- Defines the `select_file` method, triggered by the \"Select File\" button.\n",
    "- Opens a file dialog (`filedialog.askopenfilename`) allowing the user to choose Excel, TXT, or CSV files.\n",
    "- If a file is selected (`filename `is not empty):\n",
    "- Updates the `file_label` to show just the file name (using `os.path.basename`).\n",
    "- Stores the full path in `self.file_path`.\n",
    "- Logs the selection using `self.safe_log`."
   ]
  },
  {
   "cell_type": "code",
   "execution_count": null,
   "id": "05ed010e",
   "metadata": {},
   "outputs": [],
   "source": [
    "def remove_file(self):\n",
    "    \"\"\"Clears the file selection.\"\"\"\n",
    "    self.file_path = None\n",
    "    self.file_label.config(text=\"No file selected\")\n",
    "    self.safe_log(\"File selection cleared.\")"
   ]
  },
  {
   "cell_type": "markdown",
   "id": "eef20cd5",
   "metadata": {},
   "source": [
    "- Defines the `remove_file` method, triggered by the \"Remove File\" button.\n",
    "- Clears the stored` file_path` and resets the `file_label `text.\n",
    "- Logs the action."
   ]
  },
  {
   "cell_type": "code",
   "execution_count": null,
   "id": "26c7d3ca",
   "metadata": {},
   "outputs": [],
   "source": [
    "def clear_log(self):\n",
    "    \"\"\"Clears the log output area.\"\"\"\n",
    "    self.log_text.delete(\"1.0\", tk.END)"
   ]
  },
  {
   "cell_type": "markdown",
   "id": "7d28d529",
   "metadata": {},
   "source": [
    "- Defines the `clear_log` method, triggered by the \"Clear Log\" button.\n",
    "- Deletes all text from the `log_text` widget (\"`1.0`\" is the start, `tk.END `is the end)."
   ]
  },
  {
   "cell_type": "code",
   "execution_count": null,
   "id": "e167cbc0",
   "metadata": {},
   "outputs": [],
   "source": [
    "def log(self, message):\n",
    "    \"\"\"Append a message to the log area.\"\"\"\n",
    "    self.log_text.insert(tk.END, f\"{datetime.now().strftime('%H:%M:%S')} - {message}\\n\")\n",
    "    self.log_text.see(tk.END)"
   ]
  },
  {
   "cell_type": "markdown",
   "id": "b3e0d38f",
   "metadata": {},
   "source": [
    "- Defines the `log` method to add a timestamped message to the log area.\n",
    "- Inserts the message at the end (`tk.END`) of the `log_text`.\n",
    "- Scrolls the view to the end (`self.log_text.see(tk.END)`) so the latest message is visible."
   ]
  },
  {
   "cell_type": "code",
   "execution_count": null,
   "id": "391db241",
   "metadata": {},
   "outputs": [],
   "source": [
    "def safe_log(self, message):\n",
    "    \"\"\"\n",
    "    Thread-safe logging: schedule log updates on the main thread.\n",
    "    \"\"\"\n",
    "    self.after(0, self.log, message)"
   ]
  },
  {
   "cell_type": "markdown",
   "id": "cdfe9cf0",
   "metadata": {},
   "source": [
    "- Defines the `safe_log` method for logging from background threads.\n",
    "- Tinter is not thread-safe, so direct calls to UI elements from worker threads can cause errors.\n",
    "- `self.after(0, self.log, message) `schedules the `self.log(message)` call to be executed on the main thread as soon as possible, making it safe."
   ]
  },
  {
   "cell_type": "code",
   "execution_count": null,
   "id": "5986e51e",
   "metadata": {},
   "outputs": [],
   "source": [
    "# -------------------------------------------------------------------------\n",
    "# Report Generation: Run in a worker thread so that logs are updated live.\n",
    "# -------------------------------------------------------------------------\n",
    "def generate_reports(self):\n",
    "    # Clear previous ZIP buffer and disable download button.\n",
    "    self.zip_buffer = None\n",
    "    self.download_button.config(state=\"disabled\")\n",
    "    self.safe_log(\"Started generating report...\")\n",
    "    # Start the report generation in a separate thread.\n",
    "    threading.Thread(target=self.run_reports, daemon=True).start()"
   ]
  },
  {
   "cell_type": "markdown",
   "id": "8172c80e",
   "metadata": {},
   "source": [
    "- Defines the` generate_reports `method, triggered by the \"Generate Report\" button.\n",
    "- Resets the previous` zip_buffer` and disables the download button.\n",
    "Logs the start.\n",
    "- Crucially, it starts the actual report generation (`self.run_reports`) in a separate thread using `threading.Thread`. This - - prevents the GUI from freezing during the potentially long-running database operations and report generation."
   ]
  },
  {
   "cell_type": "code",
   "execution_count": null,
   "id": "7c605532",
   "metadata": {},
   "outputs": [],
   "source": [
    "def run_reports(self):\n",
    "    \"\"\"\n",
    "    This method (running in a worker thread) collects input values,\n",
    "    validates credentials, and processes the sites in parallel.\n",
    "    All key steps are logged immediately.\n",
    "    \"\"\"\n",
    "    try:\n",
    "        username = self.username_entry.get().strip()\n",
    "        password = self.password_entry.get().strip()\n",
    "        database = self.database_entry.get().strip()\n",
    "        site_id_manual = self.siteid_entry.get().strip()\n",
    "        ip_series_choice = self.ip_series.get()\n",
    "        from_date_str = self.from_date.get_date().strftime(\"%Y-%m-%d\")\n",
    "        to_date_str = self.to_date.get_date().strftime(\"%Y-%m-%d\")\n",
    "        custom_ip = self.custom_ip_entry.get().strip()  # Get the manually entered IP (if any)"
   ]
  },
  {
   "cell_type": "markdown",
   "id": "ee697588",
   "metadata": {},
   "source": [
    "- Defines the` run_reports` method, which runs in the background thread.\n",
    "- `try...except` block to catch any errors during the process.\n",
    "- Retrieves all user input values from the GUI widgets using `.get()`.\n",
    "- `.strip()` removes leading/trailing whitespace.\n",
    "- `get_date().strftime(...)` gets the date from `DateEntry `widgets and formats it as a string (`YYYY-MM-DD`)."
   ]
  },
  {
   "cell_type": "code",
   "execution_count": null,
   "id": "465ebc97",
   "metadata": {},
   "outputs": [],
   "source": [
    "        # Determine whether to use file input or manual site ID.\n",
    "        if self.file_label.cget(\"text\") != \"No file selected\":\n",
    "            self.safe_log(\"File upload mode detected. Reading Site IDs from file...\")\n",
    "            try:\n",
    "                ext = os.path.splitext(self.file_path)[1].lower()\n",
    "                if ext == '.xlsx':\n",
    "                    df = pd.read_excel(self.file_path)\n",
    "                    cols = [col.lower() for col in df.columns]\n",
    "                    if \"siteid\" in cols:\n",
    "                        site_ids = df[\"siteid\"].astype(str).tolist()\n",
    "                    else:\n",
    "                        raise Exception(\"Excel file must contain a column named 'siteid'.\")\n",
    "                else:\n",
    "                    with open(self.file_path, \"r\", encoding=\"utf-8\") as f:\n",
    "                        file_text = f.read()\n",
    "                    if \",\" in file_text:\n",
    "                        site_ids = [s.strip() for s in file_text.split(\",\") if s.strip()]\n",
    "                    else:\n",
    "                        site_ids = [s.strip() for s in file_text.splitlines() if s.strip()]\n",
    "                self.safe_log(f\"Found {len(site_ids)} site IDs in file.\")\n",
    "            except Exception as e:\n",
    "                self.after(0, messagebox.showerror, \"Error\", f\"Error reading file: {e}\")\n",
    "                return\n",
    "        else:\n",
    "            if not site_id_manual:\n",
    "                self.after(0, messagebox.showerror, \"Error\", \"Please enter a Site ID or upload a file.\")\n",
    "                return\n",
    "            site_ids = [site_id_manual]\n",
    "            self.safe_log(\"Manual input mode selected.\")"
   ]
  },
  {
   "cell_type": "markdown",
   "id": "802553c4",
   "metadata": {},
   "source": [
    "- Determines the source of Site IDs:\n",
    "- If a file was selected (label text changed), it enters \"file upload mode\":\n",
    "- Determines the file type (`.xlsx`, `.txt`, `.csv`).\n",
    "- For Excel (`.xlsx`), uses `pandas.read_excel` to read the file. Checks for a column named - \"siteid\" (case-insensitive) and extracts its values as strings.\n",
    "- For text/CSV, reads the file content. Splits by commas (if found) or newlines.\n",
    "- Stores the resulting list of Site IDs in `site_ids`.\n",
    "- Logs the count.\n",
    "- Handles file reading errors.\n",
    "- If no file was selected, it checks if a manual Site ID was entered.\n",
    "- If not, shows an error and returns.\n",
    "- If yes, creates a list `site_ids` containing just the single manual ID.\n",
    "- Logs the mode."
   ]
  },
  {
   "cell_type": "code",
   "execution_count": null,
   "id": "2061cea5",
   "metadata": {},
   "outputs": [],
   "source": [
    "# Validate credentials using the first site ID.\n",
    "self.safe_log(\"Validating connection with test connection...\")\n",
    "test_conn = connect_to_database(site_ids[0], username, password, database, ip_series_choice, custom_ip)\n",
    "if not test_conn:\n",
    "    raise Exception(\"Test connection failed.\")\n",
    "test_conn.close()\n",
    "self.safe_log(\"Test connection successful.\")"
   ]
  },
  {
   "cell_type": "markdown",
   "id": "85f6173a",
   "metadata": {},
   "source": [
    "- Performs a quick test connection using the credentials and settings, but with the first Site ID from the list.\n",
    "- This validates the inputs before processing potentially many sites.\n",
    "- If the connection fails, it raises an exception.\n",
    "- If successful, it closes the test connection and logs success."
   ]
  },
  {
   "cell_type": "code",
   "execution_count": null,
   "id": "ee96eaf9",
   "metadata": {},
   "outputs": [],
   "source": [
    "successful_reports = {}\n",
    "failed_sites = {}\n",
    "total_sites = len(site_ids)"
   ]
  },
  {
   "cell_type": "markdown",
   "id": "fd58f1ec",
   "metadata": {},
   "source": [
    "- Initializes dictionaries to store successful reports (`{site_id: report_text}`) and failed sites (`{site_id: error_message}`).\n",
    "- Gets the total number of sites to process."
   ]
  },
  {
   "cell_type": "code",
   "execution_count": null,
   "id": "574213c0",
   "metadata": {},
   "outputs": [],
   "source": [
    "# Define helper function to process each site.\n",
    "def process_site(sid, index):\n",
    "    try:\n",
    "        self.safe_log(f\"Processing site {sid} ({index}/{total_sites})...\")\n",
    "        result, site_name = get_report_data(sid, from_date_str, to_date_str, username, password, database, ip_series_choice, custom_ip)\n",
    "        report_text = format_report(result, sid, site_name, from_date_str, to_date_str)\n",
    "        self.safe_log(f\"Completed site {sid}.\")\n",
    "        return (sid, report_text, None)\n",
    "    except Exception as e:\n",
    "        self.safe_log(f\"Error processing site {sid}: {e}\")\n",
    "        return (sid, None, str(e))"
   ]
  },
  {
   "cell_type": "markdown",
   "id": "8b43a50c",
   "metadata": {},
   "source": [
    "- Defines a nested helper function `process_site` to encapsulate the logic for processing a single site.\n",
    "- Takes a Site ID (`sid`) and its index (`index`) for logging.\n",
    "- Calls `get_report_data `to fetch data and `format_report` to format it.\n",
    "- Returns a tuple (`site_id, report_text, error_message`). Either `report_text` or `error_message` will be None."
   ]
  },
  {
   "cell_type": "code",
   "execution_count": null,
   "id": "b83cc501",
   "metadata": {},
   "outputs": [],
   "source": [
    "# Process sites in parallel.\n",
    "with concurrent.futures.ThreadPoolExecutor(max_workers=min(total_sites, 10)) as executor:\n",
    "    futures = {executor.submit(process_site, sid, i): sid for i, sid in enumerate(site_ids, start=1)}\n",
    "    for future in concurrent.futures.as_completed(futures):\n",
    "        sid, report_text, error = future.result()\n",
    "        if report_text is not None:\n",
    "            successful_reports[sid] = report_text\n",
    "        else:\n",
    "            failed_sites[sid] = error"
   ]
  },
  {
   "cell_type": "markdown",
   "id": "833f00e4",
   "metadata": {},
   "source": [
    "- Uses `concurrent.futures.ThreadPoolExecutor` to process multiple sites in parallel.\n",
    "- `max_workers=min(total_sites, 10)` limits the number of concurrent threads to 10 or the number of sites, whichever is smaller.\n",
    "- Submits `process_site` tasks for each site ID.\n",
    "- Iterates through completed futures as they finish.\n",
    "- Retrieves the result (`sid`, `report_text`,` error`) for each completed task.\n",
    "- Populates `successful_reports `or `failed_sites` dictionaries based on the result."
   ]
  },
  {
   "cell_type": "code",
   "execution_count": null,
   "id": "1d2ff82c",
   "metadata": {},
   "outputs": [],
   "source": [
    "self.safe_log(\"Report generation completed.\")\n",
    "if successful_reports:\n",
    "    self.zip_buffer = io.BytesIO()\n",
    "    with zipfile.ZipFile(self.zip_buffer, \"w\", zipfile.ZIP_DEFLATED) as zip_file:\n",
    "        for sid, report in successful_reports.items():\n",
    "            zip_file.writestr(f\"{sid}.txt\", report)\n",
    "    self.zip_buffer.seek(0)\n",
    "    self.safe_log(\"Reports generated successfully. Click on Download Report.\")\n",
    "    self.after(0, lambda: self.download_button.config(state=\"normal\"))\n",
    "else:\n",
    "    self.after(0, messagebox.showerror, \"Error\", \"No successful reports to save.\")\n",
    "    return\n",
    "if failed_sites:\n",
    "    errors = \"\\n\".join([f\"{sid}: {err}\" for sid, err in failed_sites.items()])\n",
    "    self.safe_log(\"Failed Sites:\\n\" + errors)\n",
    "    self.after(0, messagebox.showwarning, \"Warning\", f\"Some sites could not be processed:\\n{errors}\")"
   ]
  },
  {
   "cell_type": "markdown",
   "id": "0934da10",
   "metadata": {},
   "source": [
    "- Logs completion.\n",
    "- If there are successful reports:\n",
    "- Creates an in-memory `BytesIO `buffer (`self.zip_buffer`).\n",
    "- Creates a `ZipFile` object pointing to this buffer.\n",
    "- Writes each` successful report` (key-value pair from successful_reports) as a separate  `.txt` file within the ZIP.\n",
    "- Resets the buffer's pointer to the beginning (`seek(0)`).\n",
    "- Logs success and enables the \"Download Report\" button on the main thread.\n",
    "- If no reports succeeded, shows an error and returns.\n",
    "- If there were failed sites:\n",
    "- Formats the errors into a string.\n",
    "- Logs the failed sites.\n",
    "- Shows a warning message box listing the failures."
   ]
  },
  {
   "cell_type": "code",
   "execution_count": null,
   "id": "cd126bff",
   "metadata": {},
   "outputs": [],
   "source": [
    "except Exception as e:\n",
    "    self.safe_log(f\"Error: {e}\")\n",
    "    self.after(0, messagebox.showerror, \"Error\", str(e))"
   ]
  },
  {
   "cell_type": "markdown",
   "id": "66a1b4b9",
   "metadata": {},
   "source": [
    "- Catches any unexpected errors during the entire `run_reports` process.\n",
    "- Logs the error and shows an error message box."
   ]
  },
  {
   "cell_type": "code",
   "execution_count": null,
   "id": "e9c0ddca",
   "metadata": {},
   "outputs": [],
   "source": [
    "def download_reports(self):\n",
    "    \"\"\"\n",
    "    Automatically save the ZIP file to the user's Downloads folder as 'SiteReports.zip'.\n",
    "    If the file already exists, append a counter to the file name.\n",
    "    \"\"\"\n",
    "    try:\n",
    "        downloads_folder = os.path.join(os.path.expanduser(\"~\"), \"Downloads\")\n",
    "        base_filename = \"SiteReports\"\n",
    "        extension = \".zip\"\n",
    "        file_path = os.path.join(downloads_folder, base_filename + extension)\n",
    "        counter = 1\n",
    "        while os.path.exists(file_path):\n",
    "            file_path = os.path.join(downloads_folder, f\"{base_filename}{counter}{extension}\")\n",
    "            counter += 1\n",
    "        with open(file_path, \"wb\") as f:\n",
    "            f.write(self.zip_buffer.getvalue())\n",
    "        self.safe_log(f\"ZIP file auto-saved to {file_path}\")\n",
    "        messagebox.showinfo(\"Success\", f\"Report auto-saved to:\\n{file_path}\")\n",
    "    except Exception as e:\n",
    "        messagebox.showerror(\"Error\", f\"Error saving ZIP file: {e}\")"
   ]
  },
  {
   "cell_type": "markdown",
   "id": "788cdf5f",
   "metadata": {},
   "source": [
    "- Defines the `download_reports` method, triggered by the \"Download Report\" button.\n",
    "- Determines the user's \"Downloads\" folder path.\n",
    "- Constructs the initial `file_path` (`Downloads/SiteReports.zip`).\n",
    "- Checks if the file already exists. If it does, increments a counter and appends it to the filename until a unique name is found (e.g., `SiteReports1.zip`).\n",
    "- Opens the determined `file_path `in binary write mode (`\"wb\"`).\n",
    "- Writes the contents of the in-memory `zip_buffer` (using `getvalue()`) to the file.\n",
    "- Logs the save location and shows a success message.\n",
    "- Handles potential errors during file saving."
   ]
  },
  {
   "cell_type": "markdown",
   "id": "a1544499",
   "metadata": {},
   "source": [
    "if __name__ == \"__main__\":\n",
    "    app = SalesSummaryReportApp()\n",
    "    app.mainloop()"
   ]
  },
  {
   "cell_type": "markdown",
   "id": "5974cc1a",
   "metadata": {},
   "source": [
    "- Standard Python idiom.\n",
    "- `if __name__ == \"__main__\"`: checks if the script is being run directly (not imported as a module).\n",
    "- If true, it creates an instance of the `SalesSummaryReportApp `class (`app`).\n",
    "- Calls `app.mainloop()`, which starts the Tkinter event loop. This loop waits for user interactions (button clicks, typing, etc.) and keeps the application window running until it's closed."
   ]
  }
 ],
 "metadata": {
  "kernelspec": {
   "display_name": "Python 3",
   "language": "python",
   "name": "python3"
  },
  "language_info": {
   "codemirror_mode": {
    "name": "ipython",
    "version": 3
   },
   "file_extension": ".py",
   "mimetype": "text/x-python",
   "name": "python",
   "nbconvert_exporter": "python",
   "pygments_lexer": "ipython3",
   "version": "3.13.2"
  }
 },
 "nbformat": 4,
 "nbformat_minor": 5
}
